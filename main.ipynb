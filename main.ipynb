{
 "cells": [
  {
   "cell_type": "markdown",
   "metadata": {
    "collapsed": true,
    "pycharm": {
     "name": "#%% md\n"
    }
   },
   "source": [
    "# Automatsko vodjenje objekata u prostoru\n",
    "\n",
    "Autor: Djordje Marjanovic\n",
    "\n",
    "## Zadatak 1\n",
    "\n",
    "Analizirati primenu metoda paralelnog vođenja u dve tačke u vertikalnoj \n",
    "ravni za sledeći scenario:\n",
    "\n",
    "**Cilj** je letelica i nalazi se u početku na poziciji\n",
    "$x = 5000\\mathrm{m}$, $y = 2500\\mathrm{m}$.\n",
    "Kreće se brzinom $200\\frac{\\mathrm{m}}{\\mathrm{s}}$.\n",
    "Pocetni ugao elevacije je $0$.\n",
    "Od početnog trenutka vrši manevar od $1g$ na više.\n",
    "\n",
    "**Vodjeni objekat** je letelica koja se u pocetnom trenutku nalazi u \n",
    "koordinatnom početku. Brzina objekta je sve vreme \n",
    "$400\\frac{\\mathrm{m}}{\\mathrm{s}}$. Početno usmerenje vektora brzine objekta\n",
    " je $20^\\circ$.\n",
    "\n",
    "Simulirati trajektoriju vođenog objekta i cilja, odrediti krajnji promašaj i\n",
    " profil promene normalnog ubrzanja.\n",
    "\n",
    "### Postavka"
   ]
  },
  {
   "cell_type": "code",
   "execution_count": 120,
   "metadata": {
    "pycharm": {
     "is_executing": false,
     "name": "#%%\n"
    }
   },
   "outputs": [],
   "source": [
    "%reset -f\n",
    "import numpy as np\n",
    "import matplotlib.pyplot as plt\n",
    "from scipy.integrate import solve_ivp\n",
    "import control"
   ]
  },
  {
   "cell_type": "markdown",
   "metadata": {
    "pycharm": {
     "name": "#%% md\n"
    }
   },
   "source": [
    "### Stanja\n",
    "\n",
    "Za potrebe simulacije, objekat navođenja i cilj se predstavljaju vektorom \n",
    "stanja u obliku:\n",
    "\n",
    "$s = [x, y, v_x, v_y]^T$\n",
    "\n",
    "### Cilj\n",
    "\n",
    "Zbog svoje jednostavne prirode, cilj se modelira algebarski sledećim jednačinama\n",
    "\n",
    "$x_c(t) = x_c(0) + v_{cx} t$\n",
    "\n",
    "$y_c(t) = y_c(0) + \\frac12 a_{cy} t^2$\n",
    "\n",
    "$v_{cx}(t) = v_{cx}(0)$\n",
    "\n",
    "$v_{cy}(t) = a_{cy} t$\n",
    "\n",
    "$s_c(t) = \\left[x_c(t), y_c(t), v_{cx}(t), v_{cy}(t)\\right]^T$\n",
    "\n",
    "gde su:\n",
    " \n",
    "$x_{c}(0) = 5000\\mathrm{m}$\n",
    "\n",
    "$y_{c}(0) = 2500\\mathrm{m}$ \n",
    "\n",
    "$v_{cx}(0) = 200\\frac{\\mathrm{m}}{\\mathrm{s}}$\n",
    "\n",
    "$a_{cy} = 1g = 9.81\\frac{\\mathrm{m}}{\\mathrm{s}^2}$"
   ]
  },
  {
   "cell_type": "code",
   "execution_count": 121,
   "metadata": {
    "pycharm": {
     "is_executing": false,
     "name": "#%%\n"
    }
   },
   "outputs": [],
   "source": [
    "def create_target(t):\n",
    "    x0 = 5000\n",
    "    y0 = 2500\n",
    "    vx0 = 200\n",
    "    ay0 = 3\n",
    "    return (\n",
    "        x0 + vx0 * t,\n",
    "        y0 + ay0 * t ** 2 / 2,\n",
    "        vx0 + 0 * t,\n",
    "        ay0 * t\n",
    "    )"
   ]
  },
  {
   "cell_type": "markdown",
   "metadata": {
    "pycharm": {
     "name": "#%% md\n"
    }
   },
   "source": [
    "### Normalno ubrzanje\n",
    "\n",
    "Zahtevano normalno ubrzanje za paralelno zbližavanje se može dobiti iz \n",
    "ubrzanja potrebnog za paralelno navođnje kada $c\\to\\infty$.\n",
    "Da bi se dobila promena ugla $\\varepsilon$, koristi se vektor rotacije \n",
    "$\\mathbf\\Omega=\\frac{\\mathbf R\\times\\mathbf v_r}{|\\mathbf R|^2}$, gde je \n",
    "$\\mathbf v_r = \\mathbf v_t - \\mathbf v_o$ i $\\mathbf R = \\mathbf C - \\mathbf O$\n",
    "\n",
    "Konačna formula je:\n",
    " \n",
    "$\\mathbf a = c\\frac{\\mathbf v_o}{|\\mathbf v_o|} \\times \n",
    "\\frac{\\mathbf R\\times\\mathbf v_r}{|\\mathbf R|^2}$\n",
    "\n",
    "Odnosno, zeljeno normalno ubrzanje je $a_n^*=|\\mathbf a|$\n",
    "\n",
    "Radi praktične implementacije koristi se $c = 20$"
   ]
  },
  {
   "cell_type": "code",
   "execution_count": 122,
   "metadata": {
    "pycharm": {
     "is_executing": false,
     "name": "#%%\n"
    }
   },
   "outputs": [],
   "source": [
    "def reference_acc(state, target_state):\n",
    "    if state.shape[0] == 4:\n",
    "        x, y, vx, vy = state\n",
    "    else:\n",
    "        x, y, vx, vy, p0, p1, p2 = state\n",
    "        \n",
    "    target_x, target_y, target_vx, target_vy = target_state\n",
    "    \n",
    "    R = np.array([target_x - x, target_y - y, 0])\n",
    "    Vr = np.array([target_vx - vx, target_vy - vy, 0])\n",
    "    Vo = np.array([vx, vy, 0])\n",
    "    \n",
    "    acc = Vr\n",
    "    acc = np.cross(R, acc)\n",
    "    acc = np.cross(Vo, acc)\n",
    "    acc = acc / np.linalg.norm(R) ** 2\n",
    "    acc = acc / np.linalg.norm(Vo)\n",
    "    acc = acc * np.linalg.norm(Vr)\n",
    "    \n",
    "    acc_normal = np.array([vy, -vx, 0])\n",
    "    acc_normal = acc_normal / np.linalg.norm(acc_normal)\n",
    "    acc_normal = acc.dot(acc_normal)\n",
    "    \n",
    "    return acc_normal * 20\n",
    "    # return 6"
   ]
  },
  {
   "cell_type": "markdown",
   "metadata": {
    "pycharm": {
     "name": "#%% md\n"
    }
   },
   "source": [
    "### Model letelice\n",
    "\n",
    "Za model letelice se koristi $\\dot s = [v_{ox}, v_{oy}, a_n\\cos(\\alpha), a_n\\sin\n",
    "(\\alpha)]$, gde je $\\alpha = \\angle(\\mathbf v_o, \\hat{\\mathbf x}) + \\frac\\pi2$"
   ]
  },
  {
   "cell_type": "code",
   "execution_count": 123,
   "metadata": {
    "pycharm": {
     "is_executing": false,
     "name": "#%%\n"
    }
   },
   "outputs": [],
   "source": [
    "def model(t, state):    \n",
    "    acc_normal = reference_acc(state, create_target(t))\n",
    "    \n",
    "    x, y, vx, vy = state\n",
    "    acc_angle = np.arctan2(vy, vx) + np.pi / 2\n",
    "    acc = {\n",
    "        'x': acc_normal * np.cos(acc_angle),\n",
    "        'y': acc_normal * np.sin(acc_angle)\n",
    "    }\n",
    "    \n",
    "    return np.array([vx, vy, acc['x'], acc['y']])"
   ]
  },
  {
   "cell_type": "markdown",
   "metadata": {
    "pycharm": {
     "name": "#%% md\n"
    }
   },
   "source": [
    "### Simulacija\n",
    "\n",
    "Simulacija se vrši rešavanjem jednačine $\\dot s = \\texttt{model}(t, s)$ \n",
    "pomoću funkcije `scipy.integrate.solve_ivp`, koja koristi Runge-Kutta metod \n",
    "četvrtog reda. \n",
    "\n",
    "Za simulaciu se koriste parametri:\n",
    "\n",
    "$t_{max} = 50\\mathrm{s}$\n",
    "\n",
    "$\\Delta t = 0.01\\mathrm{s}$"
   ]
  },
  {
   "cell_type": "code",
   "execution_count": 124,
   "metadata": {
    "pycharm": {
     "is_executing": false,
     "name": "#%%\n"
    }
   },
   "outputs": [],
   "source": [
    "t_max = 50\n",
    "dt = 0.01\n",
    "x0, y0 = 0, 0\n",
    "v0 = 400\n",
    "angle0 = 20 / 180 * np.pi\n",
    "vx0, vy0 = v0 * np.cos(angle0), v0 * np.sin(angle0)\n",
    "t = np.linspace(0, t_max, int(t_max / dt + 1))"
   ]
  },
  {
   "cell_type": "markdown",
   "metadata": {
    "pycharm": {
     "name": "#%% md\n"
    }
   },
   "source": [
    "Funkcija `end_event` pretstavlja događaj. U slučaju da se cilj i objekat \n",
    "približe viš od 50 metara, simulacija se zaustavlja."
   ]
  },
  {
   "cell_type": "code",
   "execution_count": 125,
   "metadata": {
    "pycharm": {
     "is_executing": false,
     "name": "#%%\n"
    }
   },
   "outputs": [],
   "source": [
    "def end_event(t, state):\n",
    "    x, y, vx, vy = state\n",
    "    target_x, target_y, target_vx, target_vy = create_target(t)\n",
    "    dist = np.sqrt((target_x - x) ** 2 + (target_y - y) ** 2)\n",
    "    return dist - 50\n",
    "\n",
    "end_event.terminal = True"
   ]
  },
  {
   "cell_type": "code",
   "execution_count": 126,
   "metadata": {
    "pycharm": {
     "is_executing": false,
     "name": "#%%\n"
    }
   },
   "outputs": [],
   "source": [
    "solution = solve_ivp(\n",
    "    model,\n",
    "    (0, t_max),\n",
    "    [0, 0, vx0, vy0],\n",
    "    t_eval = t,\n",
    "    events = None\n",
    "    # events = end_event\n",
    ")\n",
    "\n",
    "# If the simulation is ended prematurely, there is no need showing the whole \n",
    "# time frame.\n",
    "t = solution.t\n",
    "\n",
    "x, y, vx, vy = solution.y\n",
    "target_x, target_y, target_vx, target_vy = create_target(t) "
   ]
  },
  {
   "cell_type": "markdown",
   "metadata": {
    "pycharm": {
     "name": "#%% md\n"
    }
   },
   "source": [
    "### Trajektorija vođenog objekta i cilja"
   ]
  },
  {
   "cell_type": "code",
   "execution_count": 127,
   "metadata": {
    "pycharm": {
     "is_executing": false,
     "name": "#%%\n"
    }
   },
   "outputs": [
    {
     "data": {
      "text/plain": "<Figure size 720x720 with 1 Axes>",
      "image/png": "[encoded data removed]"
     },
     "metadata": {
      "needs_background": "light"
     },
     "output_type": "display_data"
    }
   ],
   "source": [
    "# find the point when the objects are closest to each other\n",
    "dist = np.sqrt((x - target_x) ** 2 + (y - target_y) ** 2)\n",
    "closest_index = np.argmin(dist)\n",
    "\n",
    "num_parallels = 10\n",
    "\n",
    "fig, ax = plt.subplots(figsize = (10, 10))\n",
    "\n",
    "for i in range(num_parallels):\n",
    "    parallel_index = int(i * (len(t) - 1) / (num_parallels - 1))\n",
    "    p = plt.plot(\n",
    "        [x[parallel_index], target_x[parallel_index]],\n",
    "        [y[parallel_index], target_y[parallel_index]],\n",
    "        '--k',\n",
    "        alpha = 0.2\n",
    "    )\n",
    "\n",
    "plt.plot(\n",
    "    [x[closest_index], target_x[closest_index]],\n",
    "    [y[closest_index], target_y[closest_index]],\n",
    "    '--k',\n",
    "    alpha = 0.6\n",
    ")\n",
    "\n",
    "plt.plot(x, y, alpha = 0.4, c='C0')\n",
    "plt.plot([x[closest_index]], [y[closest_index]], '*', c='C0')\n",
    "\n",
    "plt.plot(target_x, target_y, alpha = 0.4, c='C1')\n",
    "plt.plot([target_x[closest_index]], [target_y[closest_index]], '*', c='C1')\n",
    "ax.set_aspect('equal')\n",
    "plt.show()\n",
    "\n",
    "task1 = {\n",
    "    \"time\": t,\n",
    "    \"trajectory\": (x, y),\n",
    "}"
   ]
  },
  {
   "cell_type": "markdown",
   "metadata": {
    "pycharm": {
     "name": "#%% md\n"
    }
   },
   "source": [
    "### Krajnji promašaj"
   ]
  },
  {
   "cell_type": "code",
   "execution_count": 128,
   "metadata": {
    "pycharm": {
     "is_executing": false,
     "name": "#%%\n"
    }
   },
   "outputs": [
    {
     "data": {
      "text/plain": "<Figure size 432x288 with 1 Axes>",
      "image/png": "[encoded data removed]"
     },
     "metadata": {
      "needs_background": "light"
     },
     "output_type": "display_data"
    },
    {
     "name": "stdout",
     "text": [
      "Minimal distance is 1.309m\n"
     ],
     "output_type": "stream"
    }
   ],
   "source": [
    "min_index = np.argmin(dist)\n",
    "d_min = dist[min_index]\n",
    "t_min = t[min_index]\n",
    "\n",
    "fig, ax = plt.subplots()\n",
    "ax.spines['right'].set_visible(False)\n",
    "ax.spines['top'].set_visible(False)\n",
    "plt.plot(t, dist)\n",
    "plt.plot([t_min, t_min], [0, d_min], '--k', alpha=0.5)\n",
    "plt.plot([0, t_min], [d_min, d_min], '--k', alpha=0.5)\n",
    "plt.plot([t_min], [d_min], 'ok')\n",
    "plt.xlabel('t[s]')\n",
    "plt.ylabel('d[m]')\n",
    "plt.xlim(0, 50)\n",
    "plt.ylim(0, np.max(dist) * 1.05)\n",
    "plt.show()\n",
    "\n",
    "print(\"Minimal distance is {:.03f}m\".format(d_min))\n",
    "\n",
    "task1['dist'] = dist\n",
    "task1['d_min'] = d_min\n",
    "task1['t_min'] = t_min"
   ]
  },
  {
   "cell_type": "markdown",
   "metadata": {
    "pycharm": {
     "name": "#%% md\n"
    }
   },
   "source": [
    "### Profil promene normalnog ubrzanja"
   ]
  },
  {
   "cell_type": "code",
   "execution_count": 129,
   "metadata": {
    "pycharm": {
     "is_executing": false,
     "name": "#%%\n"
    }
   },
   "outputs": [
    {
     "data": {
      "text/plain": "<Figure size 432x288 with 1 Axes>",
      "image/png": "[encoded data removed]"
     },
     "metadata": {
      "needs_background": "light"
     },
     "output_type": "display_data"
    }
   ],
   "source": [
    "target_x0, target_y0, target_vx0, target_vy0 = create_target(0)\n",
    "e0 = np.arctan2(target_y0, target_x0) \n",
    "control_t = np.zeros((t.shape))\n",
    "for i, time in enumerate(t):\n",
    "    control_t[i] = reference_acc(solution.y[:, i], create_target(time))\n",
    "\n",
    "# plt.plot(t, control(solution.y, target.T, e0))\n",
    "plt.plot(t, control_t)\n",
    "plt.xlabel('t[s]')\n",
    "plt.ylabel('$a_n$[m/s/s]')\n",
    "plt.show()\n",
    "\n",
    "task1['acc'] = control_t"
   ]
  },
  {
   "cell_type": "markdown",
   "metadata": {
    "pycharm": {
     "name": "#%% md\n"
    }
   },
   "source": [
    "## Zadatak 2\n",
    "\n",
    "U sklopu sistema vođenja definisanog u domaćem zadatku 1. simulirati efekte \n",
    "realnog trekera, dinamičkog modela objekta vođenja i autopilota.\n",
    "\n",
    "Sve slučajeve samonavođenja posmatrati kao proporcionalnu navigaciju sa \n",
    "odgovarajućim vrednostima navigacione konstante. Za paralelno zbližavanje \n",
    "usvojiti $C = 20$.\n",
    "\n",
    "U slučajevima u kojima je zadatak bio da se simulira adjungovani sistem, \n",
    "posmatrati ponašanje originalnog sistema.\n",
    "\n",
    "1. **Dinamički model objekta vođenja**\n",
    "\n",
    "Definisan je dinamičkim parametrima:\n",
    "\n",
    "* $K = 0.75$\n",
    "* $T_1 = 1\\mathrm{s}$\n",
    "* $\\omega_n = 20\\frac{\\mathrm{rad}}{\\mathrm{s}}$\n",
    "* $\\zeta = 0.1$\n",
    "\n",
    "\n",
    "2. **Autopilot**\n",
    "\n",
    "Definisati strukturu autopilota namenjenog za upravljanje normalnim ubrzanjem.\n",
    "\n",
    "Naponski signali su limitirani na $\\pm 10 V$\n",
    "\n",
    "Zanemariti dinamiku pokretača krmila.\n",
    "\n",
    "Hod krmila je limitiran na $\\pm20^\\circ$\n",
    "\n",
    "\n",
    "3. **Treker u sistemima koji realizuju komandno vođenje primeniti samo na \n",
    "praćenje cilja.**\n",
    "\n",
    "*ova tacka se preskace*\n",
    "\n",
    "Servo sistem trekera je na bazi elektromotornog pogona.\n",
    "\n",
    "Parametri motora i inercije platforme su:\n",
    "\n",
    "* $T_{\\mathrm{motora}} = 0.5\\mathrm{s}$\n",
    "* $T_{\\mathrm{platforme}} = 0.5\\mathrm{s}$\n",
    "\n",
    "Kontroler je PI tipa.\n",
    "\n",
    "Primeniti kolo unutrašnje povratne sprege po signalu sa tahogeneratora.\n",
    "\n",
    "Simulirati dejstvo termičkog šuma u senzoru za praćenje.\n",
    "\n",
    "4. **Treker u sistemima koji realizuju samonavođenje**\n",
    "\n",
    "Realizovan na bazi teškog precesionog žiroskopa sa tork motorom čija se \n",
    "inercija može zanemariti.\n",
    "\n",
    "Usvojiti da je hod glave za samonavođenje mehanički ograničen na $\\pm60^\\circ$, \n",
    "a da je vidno polje senzora ograničeno na $\\pm30^\\circ$.\n",
    "\n",
    "Simulirati dejstvo termičkog šuma u senzoru za praćenje."
   ]
  },
  {
   "cell_type": "markdown",
   "metadata": {},
   "source": [
    "### Parametri\n",
    "\n",
    "Zajednički parameteri koji se koriste često u ostatku koda."
   ]
  },
  {
   "cell_type": "code",
   "execution_count": 149,
   "metadata": {
    "pycharm": {
     "is_executing": false,
     "name": "#%%\n"
    }
   },
   "outputs": [],
   "source": [
    "parameters = {\n",
    "    \"K\": 0.75,\n",
    "    \"T1\": 1,\n",
    "    \"omegan\": 20,\n",
    "    \"zeta\": 0.1,\n",
    "    \"Ksg\": 5,\n",
    "    \"Kacc\": 1,\n",
    "    \"Vo\": 200\n",
    "}"
   ]
  },
  {
   "cell_type": "markdown",
   "metadata": {
    "pycharm": {
     "name": "#%% md\n"
    }
   },
   "source": [
    "### Objekat vođenja\n",
    "\n",
    "Za objekat vođenja koristi se model drugog reda u obliku:\n",
    "\n",
    "$M = \\frac{K(T_1s+1)}{\\frac{4\\pi^2}{\\omega_n^2}s^2 + \n",
    "\\frac{4\\pi\\zeta}{\\omega_n} + 1}$ "
   ]
  },
  {
   "cell_type": "code",
   "execution_count": 150,
   "metadata": {
    "pycharm": {
     "is_executing": false,
     "name": "#%%\n"
    }
   },
   "outputs": [
    {
     "name": "stdout",
     "text": [
      "\n",
      "      0.75 s + 0.75\n",
      "--------------------------\n",
      "0.0987 s^2 + 0.06283 s + 1\n",
      "\n"
     ],
     "output_type": "stream"
    }
   ],
   "source": [
    "def model():\n",
    "    K = parameters['K']\n",
    "    T1 = parameters['T1']\n",
    "    omegan = parameters['omegan']\n",
    "    zeta = parameters['zeta']\n",
    "    T = 2 * np.pi / omegan\n",
    "    \n",
    "    return control.TransferFunction([K * T1, K], [T**2, 2 * T * zeta, 1])\n",
    "    \n",
    "print(model())"
   ]
  },
  {
   "cell_type": "markdown",
   "metadata": {
    "pycharm": {
     "name": "#%% md\n"
    }
   },
   "source": [
    "### Autopilot\n",
    "\n",
    "Za autopilota se koristi sistem prikazan ispod\n",
    "\n",
    "![](autopilot.svg)\n",
    "\n",
    "Gde je $L = \\frac{v_o}{T_1s+1}$\n",
    "\n",
    "Povratna sprega po brzinskom žiroskopu je $I = \\frac{M}{1 + K_{sg}M}$.\n",
    "\n",
    "Povratna sprega po akcelerometru je $F = \\frac{AI}{1+K_{acc}AI}$"
   ]
  },
  {
   "cell_type": "code",
   "execution_count": 151,
   "metadata": {
    "pycharm": {
     "is_executing": false,
     "name": "#%%\n"
    }
   },
   "outputs": [
    {
     "name": "stdout",
     "text": [
      "8 states have been removed from the model\n",
      "\n",
      "        1520\n",
      "--------------------\n",
      "s^2 + 38.63 s + 1568\n",
      "\n"
     ],
     "output_type": "stream"
    }
   ],
   "source": [
    "def autopilot():\n",
    "    T1 = parameters['T1']\n",
    "    Vo = parameters['Vo']\n",
    "    Ksg = parameters['Ksg']\n",
    "    Kacc = parameters['Kacc']\n",
    "    \n",
    "    M = model()\n",
    "    L = control.TransferFunction([Vo], [T1, 1])\n",
    "    \n",
    "    I = M / (1 + M * Ksg)\n",
    "    F = I * L / (1 + I * L * Kacc)\n",
    "    \n",
    "    return control.minreal(F)\n",
    "\n",
    "print(autopilot())"
   ]
  },
  {
   "cell_type": "markdown",
   "metadata": {
    "pycharm": {
     "name": "#%% md\n"
    }
   },
   "source": [
    "### Treker\n",
    "\n",
    "Pošto se koristi algoritam za samonavođenje, po tekstu zadatka, potrebno je \n",
    "koristiti treker na bazi teškog precesionog žiroskopa sa tork motorm čija se \n",
    "inercija može zanemariti. To znači da se parametri $\\tau_1$ i $\\tau_2$ u šemi \n",
    "za treker, prikazanoj ispod, mogu zanemariti, pa se za prenosnu funkciju \n",
    "dobija $T = \\frac{1}{\\frac{H}{K_1K_2}s + 1}$.\n",
    "\n",
    "![](tracker.svg)"
   ]
  },
  {
   "cell_type": "code",
   "execution_count": 152,
   "metadata": {
    "pycharm": {
     "is_executing": false,
     "name": "#%%\n"
    }
   },
   "outputs": [
    {
     "name": "stdout",
     "text": [
      "1 states have been removed from the model\n",
      "\n",
      "  10\n",
      "------\n",
      "s + 10\n",
      "\n"
     ],
     "output_type": "stream"
    }
   ],
   "source": [
    "def tracker():\n",
    "    K1 = K2 = H = 10\n",
    "    K = K1 * K2 / H\n",
    "    T = control.TransferFunction([K], [1, 0])\n",
    "    \n",
    "    return T / (1 + T)\n",
    "\n",
    "print(control.minreal(tracker()))"
   ]
  },
  {
   "cell_type": "markdown",
   "metadata": {
    "pycharm": {
     "is_executing": false,
     "name": "#%% md\n"
    }
   },
   "source": [
    "### Potpun sistem upravljanja objektom\n",
    "\n",
    "Potpun sistem upravjlanja se dobija kombinovanjem trekera i autopilota. "
   ]
  },
  {
   "cell_type": "code",
   "execution_count": 153,
   "metadata": {
    "pycharm": {
     "is_executing": false,
     "name": "#%%\n"
    }
   },
   "outputs": [
    {
     "name": "stdout",
     "text": [
      "8 states have been removed from the model\n",
      "1 states have been removed from the model\n",
      "\n",
      "1.421e-14 s^2 - 1.137e-12 s + 1.52e+04\n",
      "--------------------------------------\n",
      " s^3 + 48.63 s^2 + 1954 s + 1.568e+04\n",
      "\n"
     ],
     "output_type": "stream"
    },
    {
     "data": {
      "text/plain": "<Figure size 432x288 with 1 Axes>",
      "image/png": "[encoded data removed]"
     },
     "metadata": {
      "needs_background": "light"
     },
     "output_type": "display_data"
    }
   ],
   "source": [
    "def object():\n",
    "    T = tracker()\n",
    "    A = autopilot()\n",
    "    \n",
    "    return control.tf2ss(control.minreal(T * A))\n",
    "\n",
    "O = object()\n",
    "print(control.ss2tf(O))\n",
    "t, y = control.step_response(O)\n",
    "plt.plot(t, y)\n",
    "plt.show()\n"
   ]
  },
  {
   "cell_type": "markdown",
   "metadata": {
    "pycharm": {
     "name": "#%% md\n"
    }
   },
   "source": [
    "### Model letelice\n",
    "\n",
    "Za razliku od prvog zadatka, dodaju se nova stanja koja proizilaze od uvedenog \n",
    "modela trekera i autopilota. Nova stanja su obeležena kao $p$ i njihov model \n",
    "u prostoru stanja je definisan jednačinama:\n",
    "\n",
    "$\\dot p = A_pp + B_pa_n^*$\n",
    "\n",
    "$a_n = C_pp + D_pa_n^*$\n",
    "\n",
    "Gde su $A_p$, $B_p$, $C_p$ i $D_p$ vrednosti sistema sa trekerom i \n",
    "autopilotem. $a_n^*$ je željeno normalno ubrzanje, a $a_n$ je ostvareno \n",
    "normalno ubrzanje."
   ]
  },
  {
   "cell_type": "code",
   "execution_count": 154,
   "metadata": {
    "pycharm": {
     "is_executing": false,
     "name": "#%%\n"
    }
   },
   "outputs": [],
   "source": [
    "target_x, target_y, target_vx, target_vy = create_target(0)\n",
    "e0 = np.arctan2(target_y, target_x)\n",
    "\n",
    "def model(t, state):\n",
    "    x, y, vx, vy, p0, p1, p2 = state\n",
    "    p = np.array([[p0], [p1], [p2]])\n",
    "    \n",
    "    acc_normal = reference_acc(state, create_target(t))\n",
    "    p_prime = O.A.dot(p) + O.B.dot(acc_normal)\n",
    "    acc_hat = O.C.dot(p) + O.D.dot(acc_normal)\n",
    "    \n",
    "    acc_angle = np.arctan2(vy, vx) + np.pi / 2\n",
    "    acc = {\n",
    "        'x': acc_hat * np.cos(acc_angle),\n",
    "        'y': acc_hat * np.sin(acc_angle)\n",
    "    }\n",
    "    \n",
    "    return np.array([\n",
    "        vx, vy, acc['x'], acc['y'], p_prime[0], p_prime[1], p_prime[2]\n",
    "    ])"
   ]
  },
  {
   "cell_type": "markdown",
   "metadata": {},
   "source": [
    "### Simulacija\n",
    "\n",
    "Simulacija je izvršena isto kao u prvom zadatku, sa dodatno proširenim \n",
    "vektorom stanja."
   ]
  },
  {
   "cell_type": "code",
   "execution_count": 155,
   "metadata": {
    "pycharm": {
     "is_executing": false,
     "name": "#%%\n"
    }
   },
   "outputs": [],
   "source": [
    "t_max = 50\n",
    "dt = 0.01\n",
    "x0, y0 = 0, 0\n",
    "v0 = 400\n",
    "angle0 = 20 / 180 * np.pi\n",
    "vx0, vy0 = v0 * np.cos(angle0), v0 * np.sin(angle0)\n",
    "t = np.linspace(0, t_max, int(t_max / dt + 1))"
   ]
  },
  {
   "cell_type": "code",
   "execution_count": 156,
   "outputs": [],
   "source": [
    "def end_event(t, state):\n",
    "    x, y, vx, vy, p0, p1, p2 = state\n",
    "    target_x, target_y, target_vx, target_vy = create_target(t)\n",
    "    dist = np.sqrt((target_x - x) ** 2 + (target_y - y) ** 2)\n",
    "    return dist - 50\n",
    "\n",
    "end_event.terminal = True"
   ],
   "metadata": {
    "collapsed": false,
    "pycharm": {
     "name": "#%%\n",
     "is_executing": false
    }
   }
  },
  {
   "cell_type": "code",
   "execution_count": 157,
   "outputs": [],
   "source": [
    "solution = solve_ivp(\n",
    "    model,\n",
    "    (0, t_max),\n",
    "    [0, 0, vx0, vy0, 0, 0, 0],\n",
    "    t_eval = t,\n",
    "    events = None\n",
    "    # events = end_event\n",
    ")\n",
    "t = solution.t\n",
    "x, y, vx, vy, p0, p1, p2 = solution.y\n",
    "target_x, target_y, target_vx, target_vy = create_target(t) \n"
   ],
   "metadata": {
    "collapsed": false,
    "pycharm": {
     "name": "#%%\n",
     "is_executing": false
    }
   }
  },
  {
   "cell_type": "markdown",
   "metadata": {
    "pycharm": {
     "is_executing": false,
     "name": "#%% md\n"
    }
   },
   "source": [
    "### Trajektorija vođenog objekta i cilja"
   ]
  },
  {
   "cell_type": "code",
   "execution_count": 158,
   "metadata": {
    "pycharm": {
     "is_executing": false,
     "name": "#%%\n"
    }
   },
   "outputs": [
    {
     "data": {
      "text/plain": "<Figure size 720x720 with 1 Axes>",
      "image/png": "[encoded data removed]"
     },
     "metadata": {
      "needs_background": "light"
     },
     "output_type": "display_data"
    }
   ],
   "source": [
    "# find the point when the objects are closest to each other\n",
    "dist = np.sqrt((x - target_x) ** 2 + (y - target_y) ** 2)\n",
    "closest_index = np.argmin(dist)\n",
    "\n",
    "num_parallels = 10\n",
    "\n",
    "fig, ax = plt.subplots(figsize = (10, 10))\n",
    "\n",
    "for i in range(num_parallels):\n",
    "    parallel_index = int(i * (len(t) - 1) / (num_parallels - 1))\n",
    "    p = plt.plot(\n",
    "        [x[parallel_index], target_x[parallel_index]],\n",
    "        [y[parallel_index], target_y[parallel_index]],\n",
    "        '--k',\n",
    "        alpha = 0.2\n",
    "    )\n",
    "\n",
    "plt.plot(\n",
    "    [x[closest_index], target_x[closest_index]],\n",
    "    [y[closest_index], target_y[closest_index]],\n",
    "    '--k',\n",
    "    alpha = 0.6\n",
    ")\n",
    "\n",
    "plt.plot(x, y, alpha = 0.4, c='C0')\n",
    "plt.plot([x[closest_index]], [y[closest_index]], '*', c='C0')\n",
    "\n",
    "plt.plot(target_x, target_y, alpha = 0.4, c='C1')\n",
    "plt.plot([target_x[closest_index]], [target_y[closest_index]], '*', c='C1')\n",
    "ax.set_aspect('equal')\n",
    "plt.show()\n",
    "\n",
    "task2 = {\n",
    "    \"time\": t,\n",
    "    \"trajectory\": (x, y),\n",
    "}"
   ]
  },
  {
   "cell_type": "markdown",
   "metadata": {
    "pycharm": {
     "name": "#%% md\n"
    }
   },
   "source": [
    "### Krajnji promašaj"
   ]
  },
  {
   "cell_type": "code",
   "execution_count": 159,
   "outputs": [
    {
     "data": {
      "text/plain": "<Figure size 432x288 with 1 Axes>",
      "image/png": "[encoded data removed]"
     },
     "metadata": {
      "needs_background": "light"
     },
     "output_type": "display_data"
    },
    {
     "name": "stdout",
     "text": [
      "Minimal distance is 0.483m\n"
     ],
     "output_type": "stream"
    }
   ],
   "source": [
    "min_index = np.argmin(dist)\n",
    "d_min = dist[min_index]\n",
    "t_min = t[min_index]\n",
    "\n",
    "fig, ax = plt.subplots()\n",
    "ax.spines['right'].set_visible(False)\n",
    "ax.spines['top'].set_visible(False)\n",
    "plt.plot(t, dist)\n",
    "plt.plot([t_min, t_min], [0, d_min], '--k', alpha=0.5)\n",
    "plt.plot([0, t_min], [d_min, d_min], '--k', alpha=0.5)\n",
    "plt.plot([t_min], [d_min], 'ok')\n",
    "plt.xlabel('t[s]')\n",
    "plt.ylabel('d[m]')\n",
    "plt.xlim(0, 50)\n",
    "plt.ylim(0, np.max(dist) * 1.05)\n",
    "plt.show()\n",
    "\n",
    "print(\"Minimal distance is {:.03f}m\".format(d_min))\n",
    "\n",
    "task2['dist'] = dist"
   ],
   "metadata": {
    "collapsed": false,
    "pycharm": {
     "name": "#%%\n",
     "is_executing": false
    }
   }
  },
  {
   "cell_type": "markdown",
   "source": [
    "### Profil promene normalnog ubrzanja"
   ],
   "metadata": {
    "collapsed": false
   }
  },
  {
   "cell_type": "code",
   "execution_count": 160,
   "outputs": [
    {
     "data": {
      "text/plain": "<Figure size 432x288 with 1 Axes>",
      "image/png": "[encoded data removed]"
     },
     "metadata": {
      "needs_background": "light"
     },
     "output_type": "display_data"
    }
   ],
   "source": [
    "target_x0, target_y0, target_vx0, target_vy0 = create_target(0)\n",
    "e0 = np.arctan2(target_y0, target_x0) \n",
    "control_t = np.zeros((t.shape))\n",
    "for i, time in enumerate(t):\n",
    "    control_t[i] = reference_acc(solution.y[:, i], create_target(time))\n",
    "\n",
    "# plt.plot(t, control(solution.y, target.T, e0))\n",
    "plt.plot(t, control_t)\n",
    "plt.xlabel('t[s]')\n",
    "plt.ylabel('$a_n$[m/s/s]')\n",
    "plt.show()\n",
    "\n",
    "task2['acc'] = control_t"
   ],
   "metadata": {
    "collapsed": false,
    "pycharm": {
     "name": "#%%\n",
     "is_executing": false
    }
   }
  },
  {
   "cell_type": "markdown",
   "source": [
    "## Poređenje prvog i drugog zadatka\n",
    "\n",
    "### Trajektorija vođenog objekta i cilja"
   ],
   "metadata": {
    "collapsed": false,
    "pycharm": {
     "name": "#%% md\n"
    }
   }
  },
  {
   "cell_type": "code",
   "execution_count": 161,
   "outputs": [
    {
     "data": {
      "text/plain": "<Figure size 432x288 with 1 Axes>",
      "image/png": "[encoded data removed]"
     },
     "metadata": {
      "needs_background": "light"
     },
     "output_type": "display_data"
    }
   ],
   "source": [
    "x, y = task1['trajectory']\n",
    "plt.plot(x, y, alpha = 0.4, c='C0')\n",
    "x, y = task2['trajectory']\n",
    "plt.plot(x, y, alpha = 0.4, c='C1')\n",
    "plt.plot(target_x, target_y, alpha = 0.4, c='C2')\n",
    "ax.set_aspect('equal')\n",
    "plt.show()"
   ],
   "metadata": {
    "collapsed": false,
    "pycharm": {
     "name": "#%%\n",
     "is_executing": false
    }
   }
  },
  {
   "cell_type": "markdown",
   "source": [
    "### Krajnji promašaj"
   ],
   "metadata": {
    "collapsed": false
   }
  },
  {
   "cell_type": "code",
   "execution_count": 162,
   "outputs": [
    {
     "data": {
      "text/plain": "<Figure size 432x288 with 1 Axes>",
      "image/png": "[encoded data removed]"
     },
     "metadata": {
      "needs_background": "light"
     },
     "output_type": "display_data"
    },
    {
     "name": "stdout",
     "text": [
      "Minimal distance is 0m\n"
     ],
     "output_type": "stream"
    }
   ],
   "source": [
    "fig, ax = plt.subplots()\n",
    "ax.spines['right'].set_visible(False)\n",
    "ax.spines['top'].set_visible(False)\n",
    "\n",
    "t = task1['time']\n",
    "dist = task1['dist']\n",
    "plt.plot(t, dist)\n",
    "plt.plot([t_min], [d_min], 'ok')\n",
    "\n",
    "t = task2['time']\n",
    "dist = task2['dist']\n",
    "plt.plot(t, dist)\n",
    "plt.plot([t_min], [d_min], 'ok')\n",
    "\n",
    "plt.xlabel('t[s]')\n",
    "plt.ylabel('d[m]')\n",
    "plt.xlim(0, 50)\n",
    "plt.ylim(0, np.max(dist) * 1.05)\n",
    "plt.show()\n",
    "\n",
    "print(\"Minimal distance is {:.00f}m\".format(d_min))"
   ],
   "metadata": {
    "collapsed": false,
    "pycharm": {
     "name": "#%%\n",
     "is_executing": false
    }
   }
  },
  {
   "cell_type": "markdown",
   "source": [
    "### Profil promene normalnog ubrzanja"
   ],
   "metadata": {
    "collapsed": false
   }
  },
  {
   "cell_type": "code",
   "execution_count": 163,
   "outputs": [
    {
     "traceback": [
      "\u001b[0;31m---------------------------------------------------------------------------\u001b[0m",
      "\u001b[0;31mValueError\u001b[0m                                Traceback (most recent call last)",
      "\u001b[0;32m<ipython-input-163-0e14bb5aa696>\u001b[0m in \u001b[0;36m<module>\u001b[0;34m\u001b[0m\n\u001b[0;32m----> 1\u001b[0;31m \u001b[0mplt\u001b[0m\u001b[0;34m.\u001b[0m\u001b[0mplot\u001b[0m\u001b[0;34m(\u001b[0m\u001b[0mt\u001b[0m\u001b[0;34m,\u001b[0m \u001b[0mtask1\u001b[0m\u001b[0;34m[\u001b[0m\u001b[0;34m'acc'\u001b[0m\u001b[0;34m]\u001b[0m\u001b[0;34m)\u001b[0m\u001b[0;34m\u001b[0m\u001b[0;34m\u001b[0m\u001b[0m\n\u001b[0m\u001b[1;32m      2\u001b[0m \u001b[0mplt\u001b[0m\u001b[0;34m.\u001b[0m\u001b[0mplot\u001b[0m\u001b[0;34m(\u001b[0m\u001b[0mt\u001b[0m\u001b[0;34m,\u001b[0m \u001b[0mtask2\u001b[0m\u001b[0;34m[\u001b[0m\u001b[0;34m'acc'\u001b[0m\u001b[0;34m]\u001b[0m\u001b[0;34m)\u001b[0m\u001b[0;34m\u001b[0m\u001b[0;34m\u001b[0m\u001b[0m\n\u001b[1;32m      3\u001b[0m \u001b[0mplt\u001b[0m\u001b[0;34m.\u001b[0m\u001b[0mxlabel\u001b[0m\u001b[0;34m(\u001b[0m\u001b[0;34m't[s]'\u001b[0m\u001b[0;34m)\u001b[0m\u001b[0;34m\u001b[0m\u001b[0;34m\u001b[0m\u001b[0m\n\u001b[1;32m      4\u001b[0m \u001b[0mplt\u001b[0m\u001b[0;34m.\u001b[0m\u001b[0mylabel\u001b[0m\u001b[0;34m(\u001b[0m\u001b[0;34m'$a_n$[m/s/s]'\u001b[0m\u001b[0;34m)\u001b[0m\u001b[0;34m\u001b[0m\u001b[0;34m\u001b[0m\u001b[0m\n\u001b[1;32m      5\u001b[0m \u001b[0mplt\u001b[0m\u001b[0;34m.\u001b[0m\u001b[0mshow\u001b[0m\u001b[0;34m(\u001b[0m\u001b[0;34m)\u001b[0m\u001b[0;34m\u001b[0m\u001b[0;34m\u001b[0m\u001b[0m\n",
      "\u001b[0;32m~/PycharmProjects/avo/venv/lib/python3.6/site-packages/matplotlib/pyplot.py\u001b[0m in \u001b[0;36mplot\u001b[0;34m(scalex, scaley, data, *args, **kwargs)\u001b[0m\n\u001b[1;32m   2787\u001b[0m     return gca().plot(\n\u001b[1;32m   2788\u001b[0m         *args, scalex=scalex, scaley=scaley, **({\"data\": data} if data\n\u001b[0;32m-> 2789\u001b[0;31m         is not None else {}), **kwargs)\n\u001b[0m\u001b[1;32m   2790\u001b[0m \u001b[0;34m\u001b[0m\u001b[0m\n\u001b[1;32m   2791\u001b[0m \u001b[0;34m\u001b[0m\u001b[0m\n",
      "\u001b[0;32m~/PycharmProjects/avo/venv/lib/python3.6/site-packages/matplotlib/axes/_axes.py\u001b[0m in \u001b[0;36mplot\u001b[0;34m(self, scalex, scaley, data, *args, **kwargs)\u001b[0m\n\u001b[1;32m   1663\u001b[0m         \"\"\"\n\u001b[1;32m   1664\u001b[0m         \u001b[0mkwargs\u001b[0m \u001b[0;34m=\u001b[0m \u001b[0mcbook\u001b[0m\u001b[0;34m.\u001b[0m\u001b[0mnormalize_kwargs\u001b[0m\u001b[0;34m(\u001b[0m\u001b[0mkwargs\u001b[0m\u001b[0;34m,\u001b[0m \u001b[0mmlines\u001b[0m\u001b[0;34m.\u001b[0m\u001b[0mLine2D\u001b[0m\u001b[0;34m.\u001b[0m\u001b[0m_alias_map\u001b[0m\u001b[0;34m)\u001b[0m\u001b[0;34m\u001b[0m\u001b[0;34m\u001b[0m\u001b[0m\n\u001b[0;32m-> 1665\u001b[0;31m         \u001b[0mlines\u001b[0m \u001b[0;34m=\u001b[0m \u001b[0;34m[\u001b[0m\u001b[0;34m*\u001b[0m\u001b[0mself\u001b[0m\u001b[0;34m.\u001b[0m\u001b[0m_get_lines\u001b[0m\u001b[0;34m(\u001b[0m\u001b[0;34m*\u001b[0m\u001b[0margs\u001b[0m\u001b[0;34m,\u001b[0m \u001b[0mdata\u001b[0m\u001b[0;34m=\u001b[0m\u001b[0mdata\u001b[0m\u001b[0;34m,\u001b[0m \u001b[0;34m**\u001b[0m\u001b[0mkwargs\u001b[0m\u001b[0;34m)\u001b[0m\u001b[0;34m]\u001b[0m\u001b[0;34m\u001b[0m\u001b[0;34m\u001b[0m\u001b[0m\n\u001b[0m\u001b[1;32m   1666\u001b[0m         \u001b[0;32mfor\u001b[0m \u001b[0mline\u001b[0m \u001b[0;32min\u001b[0m \u001b[0mlines\u001b[0m\u001b[0;34m:\u001b[0m\u001b[0;34m\u001b[0m\u001b[0;34m\u001b[0m\u001b[0m\n\u001b[1;32m   1667\u001b[0m             \u001b[0mself\u001b[0m\u001b[0;34m.\u001b[0m\u001b[0madd_line\u001b[0m\u001b[0;34m(\u001b[0m\u001b[0mline\u001b[0m\u001b[0;34m)\u001b[0m\u001b[0;34m\u001b[0m\u001b[0;34m\u001b[0m\u001b[0m\n",
      "\u001b[0;32m~/PycharmProjects/avo/venv/lib/python3.6/site-packages/matplotlib/axes/_base.py\u001b[0m in \u001b[0;36m__call__\u001b[0;34m(self, *args, **kwargs)\u001b[0m\n\u001b[1;32m    223\u001b[0m                 \u001b[0mthis\u001b[0m \u001b[0;34m+=\u001b[0m \u001b[0margs\u001b[0m\u001b[0;34m[\u001b[0m\u001b[0;36m0\u001b[0m\u001b[0;34m]\u001b[0m\u001b[0;34m,\u001b[0m\u001b[0;34m\u001b[0m\u001b[0;34m\u001b[0m\u001b[0m\n\u001b[1;32m    224\u001b[0m                 \u001b[0margs\u001b[0m \u001b[0;34m=\u001b[0m \u001b[0margs\u001b[0m\u001b[0;34m[\u001b[0m\u001b[0;36m1\u001b[0m\u001b[0;34m:\u001b[0m\u001b[0;34m]\u001b[0m\u001b[0;34m\u001b[0m\u001b[0;34m\u001b[0m\u001b[0m\n\u001b[0;32m--> 225\u001b[0;31m             \u001b[0;32myield\u001b[0m \u001b[0;32mfrom\u001b[0m \u001b[0mself\u001b[0m\u001b[0;34m.\u001b[0m\u001b[0m_plot_args\u001b[0m\u001b[0;34m(\u001b[0m\u001b[0mthis\u001b[0m\u001b[0;34m,\u001b[0m \u001b[0mkwargs\u001b[0m\u001b[0;34m)\u001b[0m\u001b[0;34m\u001b[0m\u001b[0;34m\u001b[0m\u001b[0m\n\u001b[0m\u001b[1;32m    226\u001b[0m \u001b[0;34m\u001b[0m\u001b[0m\n\u001b[1;32m    227\u001b[0m     \u001b[0;32mdef\u001b[0m \u001b[0mget_next_color\u001b[0m\u001b[0;34m(\u001b[0m\u001b[0mself\u001b[0m\u001b[0;34m)\u001b[0m\u001b[0;34m:\u001b[0m\u001b[0;34m\u001b[0m\u001b[0;34m\u001b[0m\u001b[0m\n",
      "\u001b[0;32m~/PycharmProjects/avo/venv/lib/python3.6/site-packages/matplotlib/axes/_base.py\u001b[0m in \u001b[0;36m_plot_args\u001b[0;34m(self, tup, kwargs)\u001b[0m\n\u001b[1;32m    389\u001b[0m             \u001b[0mx\u001b[0m\u001b[0;34m,\u001b[0m \u001b[0my\u001b[0m \u001b[0;34m=\u001b[0m \u001b[0mindex_of\u001b[0m\u001b[0;34m(\u001b[0m\u001b[0mtup\u001b[0m\u001b[0;34m[\u001b[0m\u001b[0;34m-\u001b[0m\u001b[0;36m1\u001b[0m\u001b[0;34m]\u001b[0m\u001b[0;34m)\u001b[0m\u001b[0;34m\u001b[0m\u001b[0;34m\u001b[0m\u001b[0m\n\u001b[1;32m    390\u001b[0m \u001b[0;34m\u001b[0m\u001b[0m\n\u001b[0;32m--> 391\u001b[0;31m         \u001b[0mx\u001b[0m\u001b[0;34m,\u001b[0m \u001b[0my\u001b[0m \u001b[0;34m=\u001b[0m \u001b[0mself\u001b[0m\u001b[0;34m.\u001b[0m\u001b[0m_xy_from_xy\u001b[0m\u001b[0;34m(\u001b[0m\u001b[0mx\u001b[0m\u001b[0;34m,\u001b[0m \u001b[0my\u001b[0m\u001b[0;34m)\u001b[0m\u001b[0;34m\u001b[0m\u001b[0;34m\u001b[0m\u001b[0m\n\u001b[0m\u001b[1;32m    392\u001b[0m \u001b[0;34m\u001b[0m\u001b[0m\n\u001b[1;32m    393\u001b[0m         \u001b[0;32mif\u001b[0m \u001b[0mself\u001b[0m\u001b[0;34m.\u001b[0m\u001b[0mcommand\u001b[0m \u001b[0;34m==\u001b[0m \u001b[0;34m'plot'\u001b[0m\u001b[0;34m:\u001b[0m\u001b[0;34m\u001b[0m\u001b[0;34m\u001b[0m\u001b[0m\n",
      "\u001b[0;32m~/PycharmProjects/avo/venv/lib/python3.6/site-packages/matplotlib/axes/_base.py\u001b[0m in \u001b[0;36m_xy_from_xy\u001b[0;34m(self, x, y)\u001b[0m\n\u001b[1;32m    268\u001b[0m         \u001b[0;32mif\u001b[0m \u001b[0mx\u001b[0m\u001b[0;34m.\u001b[0m\u001b[0mshape\u001b[0m\u001b[0;34m[\u001b[0m\u001b[0;36m0\u001b[0m\u001b[0;34m]\u001b[0m \u001b[0;34m!=\u001b[0m \u001b[0my\u001b[0m\u001b[0;34m.\u001b[0m\u001b[0mshape\u001b[0m\u001b[0;34m[\u001b[0m\u001b[0;36m0\u001b[0m\u001b[0;34m]\u001b[0m\u001b[0;34m:\u001b[0m\u001b[0;34m\u001b[0m\u001b[0;34m\u001b[0m\u001b[0m\n\u001b[1;32m    269\u001b[0m             raise ValueError(\"x and y must have same first dimension, but \"\n\u001b[0;32m--> 270\u001b[0;31m                              \"have shapes {} and {}\".format(x.shape, y.shape))\n\u001b[0m\u001b[1;32m    271\u001b[0m         \u001b[0;32mif\u001b[0m \u001b[0mx\u001b[0m\u001b[0;34m.\u001b[0m\u001b[0mndim\u001b[0m \u001b[0;34m>\u001b[0m \u001b[0;36m2\u001b[0m \u001b[0;32mor\u001b[0m \u001b[0my\u001b[0m\u001b[0;34m.\u001b[0m\u001b[0mndim\u001b[0m \u001b[0;34m>\u001b[0m \u001b[0;36m2\u001b[0m\u001b[0;34m:\u001b[0m\u001b[0;34m\u001b[0m\u001b[0;34m\u001b[0m\u001b[0m\n\u001b[1;32m    272\u001b[0m             raise ValueError(\"x and y can be no greater than 2-D, but have \"\n",
      "\u001b[0;31mValueError\u001b[0m: x and y must have same first dimension, but have shapes (5001,) and (2821,)"
     ],
     "ename": "ValueError",
     "evalue": "x and y must have same first dimension, but have shapes (5001,) and (2821,)",
     "output_type": "error"
    },
    {
     "data": {
      "text/plain": "<Figure size 432x288 with 1 Axes>",
      "image/png": "[encoded data removed]"
     },
     "metadata": {
      "needs_background": "light"
     },
     "output_type": "display_data"
    }
   ],
   "source": [
    "plt.plot(t, task1['acc'])\n",
    "plt.plot(t, task2['acc'])\n",
    "plt.xlabel('t[s]')\n",
    "plt.ylabel('$a_n$[m/s/s]')\n",
    "plt.show()\n"
   ],
   "metadata": {
    "collapsed": false,
    "pycharm": {
     "name": "#%%\n",
     "is_executing": false
    }
   }
  },
  {
   "cell_type": "code",
   "execution_count": 25,
   "outputs": [],
   "source": [
    "\n"
   ],
   "metadata": {
    "collapsed": false,
    "pycharm": {
     "name": "#%%\n",
     "is_executing": false
    }
   }
  }
 ],
 "metadata": {
  "kernelspec": {
   "display_name": "Python 3",
   "language": "python",
   "name": "python3"
  },
  "language_info": {
   "codemirror_mode": {
    "name": "ipython",
    "version": 3
   },
   "file_extension": ".py",
   "mimetype": "text/x-python",
   "name": "python",
   "nbconvert_exporter": "python",
   "pygments_lexer": "ipython3",
   "version": "3.6.9"
  },
  "pycharm": {
   "stem_cell": {
    "cell_type": "raw",
    "source": [],
    "metadata": {
     "collapsed": false
    }
   }
  }
 },
 "nbformat": 4,
 "nbformat_minor": 1
}