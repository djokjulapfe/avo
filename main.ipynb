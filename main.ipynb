{
 "cells": [
  {
   "cell_type": "markdown",
   "metadata": {
    "collapsed": true,
    "pycharm": {
     "name": "#%% md\n"
    }
   },
   "source": [
    "# Automatsko vodjenje objekata u prostoru\n",
    "\n",
    "Autor: Djordje Marjanovic\n",
    "\n",
    "## Zadatak 1\n",
    "\n",
    "Analizirati primenu metoda paralelnog vođenja u dve tačke u vertikalnoj \n",
    "ravni za sledeći scenario:\n",
    "\n",
    "**Cilj** je letelica i nalazi se u početku na poziciji\n",
    "$x = 5000\\mathrm{m}$, $y = 2500\\mathrm{m}$.\n",
    "Kreće se brzinom $200\\frac{\\mathrm{m}}{\\mathrm{s}}$.\n",
    "Pocetni ugao elevacije je $0$.\n",
    "Od početnog trenutka vrši manevar od $1g$ na više.\n",
    "\n",
    "**Vodjeni objekat** je letelica koja se u pocetnom trenutku nalazi u \n",
    "koordinatnom početku. Brzina objekta je sve vreme \n",
    "$400\\frac{\\mathrm{m}}{\\mathrm{s}}$. Početno usmerenje vektora brzine objekta\n",
    " je $20^\\circ$.\n",
    "\n",
    "Simulirati trajektoriju vodjenog objekta i cilja, odrediti krajnji promasaj i\n",
    " profil promene normalnog ubrzanja.\n",
    "\n",
    "### Postavka"
   ]
  },
  {
   "cell_type": "code",
   "execution_count": 76,
   "metadata": {
    "pycharm": {
     "is_executing": false,
     "name": "#%%\n"
    }
   },
   "outputs": [],
   "source": [
    "%reset -f\n",
    "import numpy as np\n",
    "import matplotlib.pyplot as plt\n",
    "from scipy.integrate import solve_ivp\n",
    "from ipywidgets import interact"
   ]
  },
  {
   "cell_type": "markdown",
   "metadata": {
    "pycharm": {
     "name": "#%% md\n"
    }
   },
   "source": [
    "### Cilj"
   ]
  },
  {
   "cell_type": "code",
   "execution_count": 77,
   "metadata": {
    "pycharm": {
     "is_executing": false,
     "name": "#%%\n"
    }
   },
   "outputs": [],
   "source": [
    "def create_target(t):\n",
    "    x0 = 5000\n",
    "    y0 = 2500\n",
    "    vx0 = 200\n",
    "    ay0 = 1\n",
    "    return (\n",
    "        x0 + vx0 * t,\n",
    "        y0 + ay0 * t ** 2 / 2,\n",
    "        vx0 + 0 * t,\n",
    "        ay0 * t\n",
    "    )"
   ]
  },
  {
   "cell_type": "markdown",
   "metadata": {
    "pycharm": {
     "name": "#%% md\n"
    }
   },
   "source": [
    "### Upravljanje"
   ]
  },
  {
   "cell_type": "code",
   "execution_count": 78,
   "metadata": {
    "pycharm": {
     "is_executing": false,
     "name": "#%%\n"
    }
   },
   "outputs": [],
   "source": [
    "def control(state, target_state, e0):\n",
    "    x, y, vx, vy = state\n",
    "    target_x, target_y, target_vx, target_vy = target_state\n",
    "    \n",
    "    R = np.array([target_x - x, target_y - y, 0])\n",
    "    Vr = np.array([target_vx - vx, target_vy - vy, 0])\n",
    "    \n",
    "    acc = Vr\n",
    "    acc = np.cross(R, acc)\n",
    "    acc = np.cross(R, acc)\n",
    "    acc = acc / np.linalg.norm(R) ** 3\n",
    "    acc = acc * np.linalg.norm(Vr)\n",
    "    \n",
    "    acc_normal = np.array([vy, -vx, 0])\n",
    "    acc_normal = acc_normal / np.linalg.norm(acc_normal)\n",
    "    acc_normal = acc.dot(acc_normal)\n",
    "    return acc_normal * 20"
   ]
  },
  {
   "cell_type": "markdown",
   "metadata": {
    "pycharm": {
     "name": "#%% md\n"
    }
   },
   "source": [
    "### Model letelice"
   ]
  },
  {
   "cell_type": "code",
   "execution_count": 79,
   "metadata": {
    "pycharm": {
     "is_executing": false,
     "name": "#%%\n"
    }
   },
   "outputs": [],
   "source": [
    "target_x, target_y, target_vx, target_vy = create_target(0)\n",
    "e0 = np.arctan2(target_y, target_x)\n",
    "\n",
    "def model(t, state):\n",
    "    acc_normal = control(state, create_target(t), e0)\n",
    "    \n",
    "    x, y, vx, vy = state\n",
    "    acc_angle = np.arctan2(vy, vx) + np.pi / 2\n",
    "    acc = {\n",
    "        'x': acc_normal * np.cos(acc_angle),\n",
    "        'y': acc_normal * np.sin(acc_angle)\n",
    "    }\n",
    "    \n",
    "    return np.array([vx, vy, acc['x'], acc['y']])"
   ]
  },
  {
   "cell_type": "markdown",
   "metadata": {
    "pycharm": {
     "name": "#%% md\n"
    }
   },
   "source": [
    "### Simulacija"
   ]
  },
  {
   "cell_type": "code",
   "execution_count": 80,
   "metadata": {
    "pycharm": {
     "is_executing": false,
     "name": "#%%\n"
    }
   },
   "outputs": [],
   "source": [
    "def end_event(t, state):\n",
    "    x, y, vx, vy = state\n",
    "    target_x, target_y, target_vx, target_vy = create_target(t)\n",
    "    dist = np.sqrt((target_x - x) ** 2 + (target_y - y) ** 2)\n",
    "    return dist - 50\n",
    "\n",
    "end_event.terminal = True\n",
    "\n",
    "t_max = 100\n",
    "dt = 0.01\n",
    "x0, y0 = 0, 0\n",
    "v0 = 400\n",
    "angle0 = 20 / 180 * np.pi\n",
    "vx0, vy0 = v0 * np.cos(angle0), v0 * np.sin(angle0)\n",
    "t = np.linspace(0, t_max, int(t_max / dt + 1))\n",
    "\n",
    "solution = solve_ivp(\n",
    "    model,\n",
    "    (0, t_max),\n",
    "    [0, 0, vx0, vy0],\n",
    "    t_eval = t,\n",
    "    events = end_event\n",
    ")\n",
    "t = solution.t"
   ]
  },
  {
   "cell_type": "markdown",
   "metadata": {
    "pycharm": {
     "name": "#%% md\n"
    }
   },
   "source": [
    "### Vizuelizacija"
   ]
  },
  {
   "cell_type": "code",
   "execution_count": 81,
   "metadata": {
    "pycharm": {
     "is_executing": false,
     "name": "#%%\n"
    }
   },
   "outputs": [
    {
     "data": {
      "application/vnd.jupyter.widget-view+json": {
       "model_id": "b81e492605c649ab87814d73a8a04465",
       "version_major": 2,
       "version_minor": 0
      },
      "text/plain": [
       "interactive(children=(FloatSlider(value=0.0, description='time'), Output()), _dom_classes=('widget-interact',)…"
      ]
     },
     "metadata": {},
     "output_type": "display_data"
    }
   ],
   "source": [
    "def plane_outline(x, y, vx, vy, scale = 100, c='k'):\n",
    "    plane_top = np.array([\n",
    "        [-2.2, -2.7, -2, -0.5, -1.2, 0.5, 1.2, 1.9, 2],\n",
    "        [0, 1, 0.4, 0.4, 2.5, 0.4, 0.4, 0.2, 0]\n",
    "    ]) * np.array([[1], [0.7]])\n",
    "    plane_bottom = np.flip(plane_top * np.array([[1], [-1]]), axis = 1)\n",
    "    plane = np.concatenate([plane_top, plane_bottom], axis = 1)\n",
    "    angle = np.arctan2(vy, vx)\n",
    "    plane = np.array([\n",
    "        [np.cos(angle), -np.sin(angle)],\n",
    "        [np.sin(angle), np.cos(angle)]\n",
    "    ]).dot(plane) * scale\n",
    "    plt.plot(plane[0, :] + x, plane[1, :] + y, c)\n",
    "\n",
    "\n",
    "x, y, vx, vy = solution.y\n",
    "target_x, target_y, target_vx, target_vy = create_target(t) \n",
    "dist = np.sqrt((x - target_x) ** 2 + (y - target_y) ** 2)\n",
    "closest_index = np.argmin(dist)\n",
    "\n",
    "e = np.arctan2(target_y - y, target_x - x)\n",
    "\n",
    "num_parallels = 20\n",
    "\n",
    "@interact(time=(0.0, t_max))\n",
    "def plot(time=0.0):\n",
    "    index = np.argmin(np.abs(t - time))\n",
    "\n",
    "    fig, ax = plt.subplots(figsize = (15, 15))\n",
    "\n",
    "    for i in range(num_parallels):\n",
    "        parallel_index = int(i * (len(t) - 1) / (num_parallels - 1))\n",
    "        p = plt.plot(\n",
    "            [x[parallel_index], target_x[parallel_index]],\n",
    "            [y[parallel_index], target_y[parallel_index]],\n",
    "            '--k',\n",
    "            alpha = 0.5\n",
    "        )\n",
    "\n",
    "    plt.plot(x, y, alpha = 0.5, c='C0')\n",
    "    plane_outline(x[index], y[index], vx[index], vy[index], c='C0')\n",
    "    plt.plot([x[closest_index]], [y[closest_index]], '^', c='C0')\n",
    "\n",
    "    plt.plot(target_x, target_y, alpha = 0.5, c='C1')\n",
    "    plane_outline(\n",
    "        target_x[index], \n",
    "        target_y[index], \n",
    "        target_vx[index], \n",
    "        target_vy[index],\n",
    "        c='C1'\n",
    "    )\n",
    "    plt.plot([target_x[closest_index]], [target_y[closest_index]], 'v', c='C1')\n",
    "    ax.set_aspect('equal')\n",
    "    plt.show()\n"
   ]
  },
  {
   "cell_type": "code",
   "execution_count": 40,
   "metadata": {
    "pycharm": {
     "is_executing": false,
     "name": "#%%\n"
    }
   },
   "outputs": [
    {
     "data": {
      "image/png": "[encoded data removed]",
      "text/plain": [
       "<Figure size 432x288 with 1 Axes>"
      ]
     },
     "metadata": {
      "needs_background": "light"
     },
     "output_type": "display_data"
    },
    {
     "data": {
      "image/png": "[encoded data removed]",
      "text/plain": [
       "<Figure size 432x288 with 1 Axes>"
      ]
     },
     "metadata": {
      "needs_background": "light"
     },
     "output_type": "display_data"
    },
    {
     "data": {
      "image/png": "[encoded data removed]",
      "text/plain": [
       "<Figure size 432x288 with 1 Axes>"
      ]
     },
     "metadata": {
      "needs_background": "light"
     },
     "output_type": "display_data"
    },
    {
     "name": "stdout",
     "output_type": "stream",
     "text": [
      "51.77191735319138\n"
     ]
    }
   ],
   "source": [
    "plt.plot(t, e - e0)\n",
    "plt.xlabel('t[s]')\n",
    "plt.ylabel('epsilon - epsilon0[radi]')\n",
    "plt.show()\n",
    "\n",
    "control_t = np.zeros((t.shape))\n",
    "for i, time in enumerate(t):\n",
    "    control_t[i] = control(solution.y[:, i], create_target(time), e0)\n",
    "\n",
    "# plt.plot(t, control(solution.y, target.T, e0))\n",
    "plt.plot(t, control_t)\n",
    "plt.xlabel('t[s]')\n",
    "plt.ylabel('a_N[m/s/s]')\n",
    "plt.show()\n",
    "\n",
    "plt.plot(t, np.log10(dist))\n",
    "plt.xlabel('t[s]')\n",
    "plt.ylabel('log10(d[m])')\n",
    "plt.show()\n",
    "\n",
    "print(dist[-1])\n"
   ]
  },
  {
   "cell_type": "markdown",
   "metadata": {
    "pycharm": {
     "name": "#%% md\n"
    }
   },
   "source": [
    "## Zadatak 2\n",
    "\n",
    "U sklopu sistema vođenja definisanog u domaćem zadatku 1. simulirati efekte \n",
    "realnog trekera, dinamičkog modela objekta vođenja i autopilota.\n",
    "\n",
    "Sve slučajeve samonavođenja posmatrati kao proporcionalnu navigaciju sa \n",
    "odgovarajućim vrednostima navigacione konstante. Za paralelno zbližavanje \n",
    "usvojiti $C = 20$.\n",
    "\n",
    "U slučajevima u kojima je zadatak bio da se simulira adjungovani sistem, \n",
    "posmatrati ponašanje originalnog sistema.\n",
    "\n",
    "1. **Dinamički model objekta vođenja**\n",
    "\n",
    "Definisan je dinamičkim parametrima:\n",
    "\n",
    "* $K = 0.75$\n",
    "* $T_1 = 1\\mathrm{s}$\n",
    "* $\\omega_n = 20\\frac{\\mathrm{rad}}{\\mathrm{s}}$\n",
    "* $\\zeta = 0.1$\n",
    "\n",
    "\n",
    "2. **Autopilot**\n",
    "\n",
    "Definisati strukturu autopilota namenjenog za upravljanje normalnim ubrzanjem.\n",
    "\n",
    "Naponski signali su limitirani na $\\pm 10 V$\n",
    "\n",
    "Zanemariti dinamiku pokretača krmila.\n",
    "\n",
    "Hod krmila je limitiran na $\\pm20^\\circ$\n",
    "\n",
    "\n",
    "3. **Treker u sistemima koji realizuju komandno vođenje primeniti samo na \n",
    "praćenje cilja.**\n",
    "\n",
    "*ova tacka se preskace*\n",
    "\n",
    "Servo sistem trekera je na bazi elektromotornog pogona.\n",
    "\n",
    "Parametri motora i inercije platforme su:\n",
    "\n",
    "* $T_{\\mathrm{motora}} = 0.5\\mathrm{s}$\n",
    "* $T_{\\mathrm{platforme}} = 0.5\\mathrm{s}$\n",
    "\n",
    "Kontroler je PI tipa.\n",
    "\n",
    "Primeniti kolo unutrašnje povratne sprege po signalu sa tahogeneratora.\n",
    "\n",
    "Simulirati dejstvo termičkog šuma u senzoru za praćenje.\n",
    "\n",
    "4. **Treker u sistemima koji realizuju samonavođenje**\n",
    "\n",
    "Realizovan na bazi teškog precesionog žiroskopa sa tork motorom čija se \n",
    "inercija može zanemariti.\n",
    "\n",
    "Usvojiti da je hod glave za samonavođenje mehanički ograničen na $\\pm60^\\circ$, \n",
    "a da je vidno polje senzora ograničeno na $\\pm30^\\circ$.\n",
    "\n",
    "Simulirati dejstvo termičkog šuma u senzoru za praćenje.\n",
    "\n",
    "### Postavka"
   ]
  },
  {
   "cell_type": "code",
   "execution_count": 57,
   "metadata": {
    "pycharm": {
     "is_executing": false,
     "name": "#%%\n"
    }
   },
   "outputs": [],
   "source": [
    "%reset -f\n",
    "import numpy as np\n",
    "import matplotlib.pyplot as plt\n",
    "from scipy.integrate import solve_ivp\n",
    "from ipywidgets import interact\n",
    "import control"
   ]
  },
  {
   "cell_type": "markdown",
   "metadata": {},
   "source": [
    "### Parametri"
   ]
  },
  {
   "cell_type": "code",
   "execution_count": 58,
   "metadata": {
    "pycharm": {
     "is_executing": false,
     "name": "#%%\n"
    }
   },
   "outputs": [],
   "source": [
    "parameters = {\n",
    "    \"K\": 0.75,\n",
    "    \"T1\": 1,\n",
    "    \"omegan\": 20,\n",
    "    \"zeta\": 0.1,\n",
    "    \"Ksg\": 5,\n",
    "    \"Kacc\": 1,\n",
    "    \"Vo\": 200\n",
    "}"
   ]
  },
  {
   "cell_type": "markdown",
   "metadata": {
    "pycharm": {
     "name": "#%% md\n"
    }
   },
   "source": [
    "### Objekat vodjenja"
   ]
  },
  {
   "cell_type": "code",
   "execution_count": 59,
   "metadata": {
    "pycharm": {
     "is_executing": false,
     "name": "#%%\n"
    }
   },
   "outputs": [
    {
     "name": "stdout",
     "text": [
      "\n",
      "      0.75 s + 0.75\n",
      "--------------------------\n",
      "0.0987 s^2 + 0.06283 s + 1\n",
      "\n"
     ],
     "output_type": "stream"
    }
   ],
   "source": [
    "def model():\n",
    "    K = parameters['K']\n",
    "    T1 = parameters['T1']\n",
    "    omegan = parameters['omegan']\n",
    "    zeta = parameters['zeta']\n",
    "    T = 2 * np.pi / omegan\n",
    "    \n",
    "    return control.TransferFunction([K * T1, K], [T**2, 2 * T * zeta, 1])\n",
    "    \n",
    "print(model())"
   ]
  },
  {
   "cell_type": "markdown",
   "metadata": {
    "pycharm": {
     "name": "#%% md\n"
    }
   },
   "source": [
    "### Autopilot"
   ]
  },
  {
   "cell_type": "code",
   "execution_count": 60,
   "metadata": {
    "pycharm": {
     "is_executing": false,
     "name": "#%%\n"
    }
   },
   "outputs": [
    {
     "name": "stdout",
     "text": [
      "8 states have been removed from the model\n",
      "\n",
      "        1520\n",
      "--------------------\n",
      "s^2 + 38.63 s + 1568\n",
      "\n"
     ],
     "output_type": "stream"
    }
   ],
   "source": [
    "def autopilot():\n",
    "    T1 = parameters['T1']\n",
    "    Vo = parameters['Vo']\n",
    "    Ksg = parameters['Ksg']\n",
    "    Kacc = parameters['Kacc']\n",
    "    \n",
    "    M = model()\n",
    "    A = control.TransferFunction([T1], [T1, 1]) * Vo / T1\n",
    "    \n",
    "    P = M / (1 + M * Ksg)\n",
    "    F = P * A / (1 + P * A * Kacc)\n",
    "    \n",
    "    return control.minreal(F)\n",
    "\n",
    "print(autopilot())"
   ]
  },
  {
   "cell_type": "markdown",
   "metadata": {
    "pycharm": {
     "name": "#%% md\n"
    }
   },
   "source": [
    "### Treker"
   ]
  },
  {
   "cell_type": "code",
   "execution_count": 61,
   "metadata": {
    "pycharm": {
     "is_executing": false,
     "name": "#%%\n"
    }
   },
   "outputs": [
    {
     "name": "stdout",
     "text": [
      "1 states have been removed from the model\n",
      "\n",
      "  10\n",
      "------\n",
      "s + 10\n",
      "\n"
     ],
     "output_type": "stream"
    }
   ],
   "source": [
    "def tracker():\n",
    "    K1 = K2 = H = 10\n",
    "    K = K1 * K2 / H\n",
    "    T = control.TransferFunction([K], [1, 0])\n",
    "    \n",
    "    return T / (1 + T)\n",
    "\n",
    "print(control.minreal(tracker()))"
   ]
  },
  {
   "cell_type": "markdown",
   "metadata": {
    "pycharm": {
     "name": "#%% md\n",
     "is_executing": false
    }
   },
   "source": [
    "### Ceo sistem objekta upravljanja"
   ]
  },
  {
   "cell_type": "code",
   "execution_count": 63,
   "outputs": [
    {
     "name": "stdout",
     "text": [
      "8 states have been removed from the model\n",
      "1 states have been removed from the model\n"
     ],
     "output_type": "stream"
    },
    {
     "data": {
      "text/plain": "<Figure size 432x288 with 1 Axes>",
      "image/png": "[encoded data removed]"
     },
     "metadata": {
      "needs_background": "light"
     },
     "output_type": "display_data"
    }
   ],
   "source": [
    "def object():\n",
    "    T = tracker()\n",
    "    A = autopilot()\n",
    "    \n",
    "    return control.tf2ss(control.minreal(T * A))\n",
    "\n",
    "O = object()\n",
    "t, y = control.step_response(O)\n",
    "plt.plot(t, y)\n",
    "plt.show()"
   ],
   "metadata": {
    "collapsed": false,
    "pycharm": {
     "name": "#%%\n",
     "is_executing": false
    }
   }
  },
  {
   "cell_type": "markdown",
   "source": [
    "### Cilj"
   ],
   "metadata": {
    "collapsed": false
   }
  },
  {
   "cell_type": "code",
   "execution_count": 64,
   "outputs": [],
   "source": [
    "def create_target(t):\n",
    "    x0 = 5000\n",
    "    y0 = 2500\n",
    "    vx0 = 200\n",
    "    ay0 = 1\n",
    "    return (\n",
    "        x0 + vx0 * t,\n",
    "        y0 + ay0 * t ** 2 / 2,\n",
    "        vx0 + 0 * t,\n",
    "        ay0 * t\n",
    "    )"
   ],
   "metadata": {
    "collapsed": false,
    "pycharm": {
     "name": "#%%\n",
     "is_executing": false
    }
   }
  },
  {
   "cell_type": "markdown",
   "source": [
    "### Upravljanje"
   ],
   "metadata": {
    "collapsed": false,
    "pycharm": {
     "name": "#%% md\n"
    }
   }
  },
  {
   "cell_type": "code",
   "execution_count": 65,
   "outputs": [],
   "source": [
    "def control(state, target_state, e0):\n",
    "    x, y, vx, vy, p0, p1, p2 = state\n",
    "    target_x, target_y, target_vx, target_vy = target_state\n",
    "    \n",
    "    R = np.array([target_x - x, target_y - y, 0])\n",
    "    Vr = np.array([target_vx - vx, target_vy - vy, 0])\n",
    "    \n",
    "    acc = Vr\n",
    "    acc = np.cross(R, acc)\n",
    "    acc = np.cross(R, acc)\n",
    "    acc = acc / np.linalg.norm(R) ** 3\n",
    "    acc = acc * np.linalg.norm(Vr)\n",
    "    \n",
    "    acc_normal = np.array([vy, -vx, 0])\n",
    "    acc_normal = acc_normal / np.linalg.norm(acc_normal)\n",
    "    acc_normal = acc.dot(acc_normal)\n",
    "    return acc_normal * 20\n"
   ],
   "metadata": {
    "collapsed": false,
    "pycharm": {
     "name": "#%%\n",
     "is_executing": false
    }
   }
  },
  {
   "cell_type": "markdown",
   "source": [
    "### Model letelice"
   ],
   "metadata": {
    "collapsed": false,
    "pycharm": {
     "name": "#%% md\n"
    }
   }
  },
  {
   "cell_type": "code",
   "execution_count": 66,
   "outputs": [],
   "source": [
    "target_x, target_y, target_vx, target_vy = create_target(0)\n",
    "e0 = np.arctan2(target_y, target_x)\n",
    "\n",
    "def controlled_plane(t, state):\n",
    "    x, y, vx, vy, p0, p1, p2 = state\n",
    "    p = np.array([[p0], [p1], [p2]])\n",
    "    \n",
    "    acc_normal = control(state, create_target(t), e0)\n",
    "    p_prime = O.A.dot(p) + O.B.dot(acc_normal)\n",
    "    acc_hat = O.C.dot(p) + O.D.dot(acc_normal)\n",
    "    \n",
    "    acc_angle = np.arctan2(vy, vx) + np.pi / 2\n",
    "    acc = {\n",
    "        'x': acc_hat * np.cos(acc_angle),\n",
    "        'y': acc_hat * np.sin(acc_angle)\n",
    "    }\n",
    "    \n",
    "    return np.array([\n",
    "        vx, vy, acc['x'], acc['y'], p_prime[0], p_prime[1], p_prime[2]\n",
    "    ])"
   ],
   "metadata": {
    "collapsed": false,
    "pycharm": {
     "name": "#%%\n",
     "is_executing": false
    }
   }
  },
  {
   "cell_type": "markdown",
   "source": [
    "### Simulacija"
   ],
   "metadata": {
    "collapsed": false
   }
  },
  {
   "cell_type": "code",
   "execution_count": 76,
   "outputs": [],
   "source": [
    "def end_event(t, state):\n",
    "    x, y, vx, vy, p0, p1, p2 = state\n",
    "    target_x, target_y, target_vx, target_vy = create_target(t)\n",
    "    dist = np.sqrt((target_x - x) ** 2 + (target_y - y) ** 2)\n",
    "    return dist - 50\n",
    "\n",
    "end_event.terminal = True\n",
    "\n",
    "t_max = 100\n",
    "dt = 0.01\n",
    "x0, y0 = 0, 0\n",
    "v0 = 400\n",
    "angle0 = 20 / 180 * np.pi\n",
    "vx0, vy0 = v0 * np.cos(angle0), v0 * np.sin(angle0)\n",
    "t = np.linspace(0, t_max, int(t_max / dt + 1))\n",
    "\n",
    "solution = solve_ivp(\n",
    "    controlled_plane,\n",
    "    (0, t_max),\n",
    "    [0, 0, vx0, vy0, 0, 0, 0],\n",
    "    t_eval = t,\n",
    "    events = end_event\n",
    ")\n",
    "t = solution.t\n",
    "t_max = solution.t[-1]"
   ],
   "metadata": {
    "collapsed": false,
    "pycharm": {
     "name": "#%%\n",
     "is_executing": false
    }
   }
  },
  {
   "cell_type": "markdown",
   "source": [
    "### Vizuelizacija"
   ],
   "metadata": {
    "collapsed": false,
    "pycharm": {
     "name": "#%% md\n"
    }
   }
  },
  {
   "cell_type": "code",
   "execution_count": 77,
   "outputs": [
    {
     "data": {
      "text/plain": "interactive(children=(FloatSlider(value=0.0, description='time', max=26.7), Output()), _dom_classes=('widget-i…",
      "application/vnd.jupyter.widget-view+json": {
       "version_major": 2,
       "version_minor": 0,
       "model_id": "8a264121f5864226a436322791bee561"
      }
     },
     "metadata": {},
     "output_type": "display_data"
    }
   ],
   "source": [
    "def plane_outline(x, y, vx, vy, scale = 100, c='k'):\n",
    "    plane_top = np.array([\n",
    "        [-2.2, -2.7, -2, -0.5, -1.2, 0.5, 1.2, 1.9, 2],\n",
    "        [0, 1, 0.4, 0.4, 2.5, 0.4, 0.4, 0.2, 0]\n",
    "    ]) * np.array([[1], [0.7]])\n",
    "    plane_bottom = np.flip(plane_top * np.array([[1], [-1]]), axis = 1)\n",
    "    plane = np.concatenate([plane_top, plane_bottom], axis = 1)\n",
    "    angle = np.arctan2(vy, vx)\n",
    "    plane = np.array([\n",
    "        [np.cos(angle), -np.sin(angle)],\n",
    "        [np.sin(angle), np.cos(angle)]\n",
    "    ]).dot(plane) * scale\n",
    "    plt.plot(plane[0, :] + x, plane[1, :] + y, c)\n",
    "\n",
    "\n",
    "x, y, vx, vy, p0, p1, p2 = solution.y\n",
    "target_x, target_y, target_vx, target_vy = create_target(t) \n",
    "dist = np.sqrt((x - target_x) ** 2 + (y - target_y) ** 2)\n",
    "closest_index = np.argmin(dist)\n",
    "\n",
    "e = np.arctan2(target_y - y, target_x - x)\n",
    "\n",
    "num_parallels = 20\n",
    "\n",
    "@interact(time=(0.0, t_max))\n",
    "def plot(time=0.0):\n",
    "    index = np.argmin(np.abs(t - time))\n",
    "\n",
    "    fig, ax = plt.subplots(figsize = (15, 15))\n",
    "\n",
    "    for i in range(num_parallels):\n",
    "        parallel_index = int(i * (len(t) - 1) / (num_parallels - 1))\n",
    "        p = plt.plot(\n",
    "            [x[parallel_index], target_x[parallel_index]],\n",
    "            [y[parallel_index], target_y[parallel_index]],\n",
    "            '--k',\n",
    "            alpha = 0.5\n",
    "        )\n",
    "\n",
    "    plt.plot(x, y, alpha = 0.5, c='C0')\n",
    "    plane_outline(x[index], y[index], vx[index], vy[index], c='C0')\n",
    "    plt.plot([x[closest_index]], [y[closest_index]], '^', c='C0')\n",
    "\n",
    "    plt.plot(target_x, target_y, alpha = 0.5, c='C1')\n",
    "    plane_outline(\n",
    "        target_x[index], \n",
    "        target_y[index], \n",
    "        target_vx[index], \n",
    "        target_vy[index],\n",
    "        c='C1'\n",
    "    )\n",
    "    plt.plot([target_x[closest_index]], [target_y[closest_index]], 'v', c='C1')\n",
    "    ax.set_aspect('equal')\n",
    "    plt.show()\n"
   ],
   "metadata": {
    "collapsed": false,
    "pycharm": {
     "name": "#%%\n",
     "is_executing": false
    }
   }
  },
  {
   "cell_type": "code",
   "execution_count": 78,
   "outputs": [
    {
     "data": {
      "text/plain": "<Figure size 432x288 with 1 Axes>",
      "image/png": "[encoded data removed]"
     },
     "metadata": {
      "needs_background": "light"
     },
     "output_type": "display_data"
    },
    {
     "data": {
      "text/plain": "<Figure size 432x288 with 1 Axes>",
      "image/png": "[encoded data removed]"
     },
     "metadata": {
      "needs_background": "light"
     },
     "output_type": "display_data"
    },
    {
     "data": {
      "text/plain": "<Figure size 432x288 with 1 Axes>",
      "image/png": "[encoded data removed]"
     },
     "metadata": {
      "needs_background": "light"
     },
     "output_type": "display_data"
    },
    {
     "name": "stdout",
     "text": [
      "50.21178462918958\n"
     ],
     "output_type": "stream"
    }
   ],
   "source": [
    "plt.plot(t, (e - e0) / np.pi * 180)\n",
    "plt.xlabel('t[s]')\n",
    "plt.ylabel('epsilon - epsilon0[degrees]')\n",
    "plt.show()\n",
    "\n",
    "control_t = np.zeros((t.shape))\n",
    "for i, time in enumerate(t):\n",
    "    control_t[i] = control(solution.y[:, i], create_target(time), e0)\n",
    "\n",
    "# plt.plot(t, control(solution.y, target.T, e0))\n",
    "plt.plot(t, control_t)\n",
    "plt.xlabel('t[s]')\n",
    "plt.ylabel('a_N[m/s/s]')\n",
    "plt.show()\n",
    "\n",
    "plt.plot(t, np.log10(dist))\n",
    "plt.xlabel('t[s]')\n",
    "plt.ylabel('log10(d[m])')\n",
    "plt.show()\n",
    "\n",
    "print(dist[-1])"
   ],
   "metadata": {
    "collapsed": false,
    "pycharm": {
     "name": "#%%\n",
     "is_executing": false
    }
   }
  },
  {
   "cell_type": "code",
   "execution_count": null,
   "outputs": [],
   "source": [],
   "metadata": {
    "collapsed": false,
    "pycharm": {
     "name": "#%%\n"
    }
   }
  }
 ],
 "metadata": {
  "kernelspec": {
   "display_name": "Python 3",
   "language": "python",
   "name": "python3"
  },
  "language_info": {
   "codemirror_mode": {
    "name": "ipython",
    "version": 3
   },
   "file_extension": ".py",
   "mimetype": "text/x-python",
   "name": "python",
   "nbconvert_exporter": "python",
   "pygments_lexer": "ipython3",
   "version": "3.6.9"
  },
  "pycharm": {
   "stem_cell": {
    "cell_type": "raw",
    "source": [],
    "metadata": {
     "collapsed": false
    }
   }
  }
 },
 "nbformat": 4,
 "nbformat_minor": 1
}