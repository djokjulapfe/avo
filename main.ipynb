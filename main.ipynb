{
 "cells": [
  {
   "cell_type": "markdown",
   "metadata": {
    "collapsed": true,
    "pycharm": {
     "name": "#%% md\n"
    }
   },
   "source": [
    "# Automatsko vodjenje objekata u prostoru\n",
    "\n",
    "Autor: Djordje Marjanovic\n",
    "\n",
    "## Zadatak 1\n",
    "\n",
    "Analizirati primenu metoda paralelnog vodjenja u dve tacke u vertikalnoj \n",
    "ravni za sledeci scenario:\n",
    "\n",
    "Cilj je letelica i nalazi se u pocetku na poziciji x = 5000m, y = 2500m. \n",
    "Krece se brzinom 200m/s. Pocetni ugao elevacije je 0. Od pocetnog trenutka \n",
    "vrsi manevar od 1g na vise.\n",
    "\n",
    "Vodjeni objekat je letelica koja se u pocetnom trenutku nalazi u \n",
    "koordinatnom pocetku. Brzina objekta je sve vreme 400 m/s. Pocetno usmerenje \n",
    "vektora brzine objekta je 20 stepeni.\n",
    "\n",
    "Simulirati trajektoriju vodjenog objekta i cilja, odrediti krajnji promasaj i\n",
    " profil promene normalnog ubrzanja.\n",
    "\n",
    "### Postavka"
   ]
  },
  {
   "cell_type": "code",
   "execution_count": 1,
   "metadata": {
    "pycharm": {
     "is_executing": false,
     "name": "#%%\n"
    }
   },
   "outputs": [],
   "source": [
    "%reset -f\n",
    "import numpy as np\n",
    "import matplotlib.pyplot as plt\n",
    "from scipy.integrate import solve_ivp\n",
    "from ipywidgets import interact"
   ]
  },
  {
   "cell_type": "markdown",
   "metadata": {
    "pycharm": {
     "name": "#%% md\n"
    }
   },
   "source": [
    "### Cilj"
   ]
  },
  {
   "cell_type": "code",
   "execution_count": 2,
   "metadata": {
    "pycharm": {
     "is_executing": false,
     "name": "#%%\n"
    }
   },
   "outputs": [],
   "source": [
    "def create_target(t):\n",
    "    x0 = 5000\n",
    "    y0 = 2500\n",
    "    vx0 = 200\n",
    "    ay0 = 1\n",
    "    return (\n",
    "        x0 + vx0 * t,\n",
    "        y0 + ay0 * t ** 2 / 2,\n",
    "        vx0 + 0 * t,\n",
    "        ay0 * t\n",
    "    )"
   ]
  },
  {
   "cell_type": "markdown",
   "metadata": {
    "pycharm": {
     "name": "#%% md\n"
    }
   },
   "source": [
    "### Upravljanje"
   ]
  },
  {
   "cell_type": "code",
   "execution_count": 12,
   "metadata": {
    "pycharm": {
     "is_executing": false,
     "name": "#%%\n"
    }
   },
   "outputs": [],
   "source": [
    "def control(state, target_state, e0):\n",
    "    x, y, vx, vy = state\n",
    "    target_x, target_y, target_vx, target_vy = target_state\n",
    "    \n",
    "    R = np.array([target_x - x, target_y - y, 0])\n",
    "    Vr = np.array([target_vx - vx, target_vy - vy, 0])\n",
    "    \n",
    "    acc = Vr\n",
    "    acc = np.cross(R, acc)\n",
    "    acc = np.cross(R, acc)\n",
    "    acc = acc / np.linalg.norm(R) ** 3\n",
    "    acc = acc * np.linalg.norm(Vr)\n",
    "    \n",
    "    acc_normal = np.array([vy, -vx, 0])\n",
    "    acc_normal = acc_normal / np.linalg.norm(acc_normal)\n",
    "    acc_normal = acc.dot(acc_normal)\n",
    "    return acc_normal * 25"
   ]
  },
  {
   "cell_type": "markdown",
   "metadata": {
    "pycharm": {
     "name": "#%% md\n"
    }
   },
   "source": [
    "### Model letelice"
   ]
  },
  {
   "cell_type": "code",
   "execution_count": 13,
   "metadata": {
    "pycharm": {
     "is_executing": false,
     "name": "#%%\n"
    }
   },
   "outputs": [],
   "source": [
    "target_x, target_y, target_vx, target_vy = create_target(0)\n",
    "e0 = np.arctan2(target_y, target_x)\n",
    "\n",
    "def model(t, state):\n",
    "    acc_normal = control(state, create_target(t), e0)\n",
    "    \n",
    "    x, y, vx, vy = state\n",
    "    acc_angle = np.arctan2(vy, vx) + np.pi / 2\n",
    "    acc = {\n",
    "        'x': acc_normal * np.cos(acc_angle),\n",
    "        'y': acc_normal * np.sin(acc_angle)\n",
    "    }\n",
    "    \n",
    "    return np.array([vx, vy, acc['x'], acc['y']])"
   ]
  },
  {
   "cell_type": "markdown",
   "metadata": {
    "pycharm": {
     "name": "#%% md\n"
    }
   },
   "source": [
    "### Simulacija"
   ]
  },
  {
   "cell_type": "code",
   "execution_count": 17,
   "metadata": {
    "pycharm": {
     "is_executing": false,
     "name": "#%%\n"
    }
   },
   "outputs": [],
   "source": [
    "def end_event(t, state):\n",
    "    x, y, vx, vy = state\n",
    "    target_x, target_y, target_vx, target_vy = create_target(t)\n",
    "    dist = np.sqrt((target_x - x) ** 2 + (target_y - y) ** 2)\n",
    "    return dist - 50\n",
    "\n",
    "end_event.terminal = True\n",
    "\n",
    "t_max = 100\n",
    "dt = 0.01\n",
    "x0, y0 = 0, 0\n",
    "v0 = 400\n",
    "angle0 = 20 / 180 * np.pi\n",
    "vx0, vy0 = v0 * np.cos(angle0), v0 * np.sin(angle0)\n",
    "t = np.linspace(0, t_max, int(t_max / dt + 1))\n",
    "\n",
    "solution = solve_ivp(\n",
    "    model,\n",
    "    (0, t_max),\n",
    "    [0, 0, vx0, vy0],\n",
    "    t_eval = t,\n",
    "    events = end_event\n",
    ")\n",
    "t = solution.t"
   ]
  },
  {
   "cell_type": "markdown",
   "metadata": {
    "pycharm": {
     "name": "#%% md\n"
    }
   },
   "source": [
    "### Vizuelizacija"
   ]
  },
  {
   "cell_type": "code",
   "execution_count": 18,
   "metadata": {
    "pycharm": {
     "is_executing": false,
     "name": "#%%\n"
    }
   },
   "outputs": [
    {
     "data": {
      "text/plain": "interactive(children=(FloatSlider(value=0.0, description='time', max=200.0), Output()), _dom_classes=('widget-…",
      "application/vnd.jupyter.widget-view+json": {
       "version_major": 2,
       "version_minor": 0,
       "model_id": "c6565de7d2974849b7f900d636de07e3"
      }
     },
     "metadata": {},
     "output_type": "display_data"
    }
   ],
   "source": [
    "def plane_outline(x, y, vx, vy, scale = 100, c='k'):\n",
    "    plane_top = np.array([\n",
    "        [-2.2, -2.7, -2, -0.5, -1.2, 0.5, 1.2, 1.9, 2],\n",
    "        [0, 1, 0.4, 0.4, 2.5, 0.4, 0.4, 0.2, 0]\n",
    "    ]) * np.array([[1], [0.7]])\n",
    "    plane_bottom = np.flip(plane_top * np.array([[1], [-1]]), axis = 1)\n",
    "    plane = np.concatenate([plane_top, plane_bottom], axis = 1)\n",
    "    angle = np.arctan2(vy, vx)\n",
    "    plane = np.array([\n",
    "        [np.cos(angle), -np.sin(angle)],\n",
    "        [np.sin(angle), np.cos(angle)]\n",
    "    ]).dot(plane) * scale\n",
    "    plt.plot(plane[0, :] + x, plane[1, :] + y, c)\n",
    "\n",
    "\n",
    "x, y, vx, vy = solution.y\n",
    "target_x, target_y, target_vx, target_vy = create_target(t) \n",
    "dist = np.sqrt((x - target_x) ** 2 + (y - target_y) ** 2)\n",
    "closest_index = np.argmin(dist)\n",
    "\n",
    "e = np.arctan2(target_y - y, target_x - x)\n",
    "\n",
    "num_parallels = 20\n",
    "\n",
    "@interact(time=(0.0, t_max))\n",
    "def plot(time=0.0):\n",
    "    index = np.argmin(np.abs(t - time))\n",
    "\n",
    "    fig, ax = plt.subplots(figsize = (15, 15))\n",
    "\n",
    "    for i in range(num_parallels):\n",
    "        parallel_index = int(i * (len(t) - 1) / (num_parallels - 1))\n",
    "        p = plt.plot(\n",
    "            [x[parallel_index], target_x[parallel_index]],\n",
    "            [y[parallel_index], target_y[parallel_index]],\n",
    "            '--k',\n",
    "            alpha = 0.5\n",
    "        )\n",
    "\n",
    "    plt.plot(x, y, alpha = 0.5, c='C0')\n",
    "    plane_outline(x[index], y[index], vx[index], vy[index], c='C0')\n",
    "    plt.plot([x[closest_index]], [y[closest_index]], '^', c='C0')\n",
    "\n",
    "    plt.plot(target_x, target_y, alpha = 0.5, c='C1')\n",
    "    plane_outline(\n",
    "        target_x[index], \n",
    "        target_y[index], \n",
    "        target_vx[index], \n",
    "        target_vy[index],\n",
    "        c='C1'\n",
    "    )\n",
    "    plt.plot([target_x[closest_index]], [target_y[closest_index]], 'v', c='C1')\n",
    "    ax.set_aspect('equal')\n",
    "    plt.show()\n"
   ]
  },
  {
   "cell_type": "code",
   "execution_count": 16,
   "metadata": {
    "pycharm": {
     "is_executing": false,
     "name": "#%%\n"
    }
   },
   "outputs": [
    {
     "data": {
      "text/plain": "<Figure size 432x288 with 1 Axes>",
      "image/png": "[encoded data removed]"
     },
     "metadata": {
      "needs_background": "light"
     },
     "output_type": "display_data"
    },
    {
     "data": {
      "text/plain": "<Figure size 432x288 with 1 Axes>",
      "image/png": "[encoded data removed]"
     },
     "metadata": {
      "needs_background": "light"
     },
     "output_type": "display_data"
    },
    {
     "data": {
      "text/plain": "<Figure size 432x288 with 1 Axes>",
      "image/png": "[encoded data removed]"
     },
     "metadata": {
      "needs_background": "light"
     },
     "output_type": "display_data"
    }
   ],
   "source": [
    "plt.plot(t, e - e0)\n",
    "plt.xlabel('t[s]')\n",
    "plt.ylabel('epsilon - epsilon0[radi]')\n",
    "plt.show()\n",
    "\n",
    "control_t = np.zeros((t.shape))\n",
    "for i, time in enumerate(t):\n",
    "    control_t[i] = control(solution.y[:, i], create_target(time), e0)\n",
    "\n",
    "# plt.plot(t, control(solution.y, target.T, e0))\n",
    "plt.plot(t, control_t)\n",
    "plt.xlabel('t[s]')\n",
    "plt.ylabel('a_N[m/s/s]')\n",
    "plt.show()\n",
    "\n",
    "plt.plot(t, dist)\n",
    "plt.xlabel('t[s]')\n",
    "plt.ylabel('d[m]')\n",
    "plt.show()\n"
   ]
  },
  {
   "cell_type": "code",
   "execution_count": null,
   "metadata": {},
   "outputs": [],
   "source": []
  },
  {
   "cell_type": "code",
   "execution_count": null,
   "metadata": {},
   "outputs": [],
   "source": []
  }
 ],
 "metadata": {
  "kernelspec": {
   "display_name": "Python 3",
   "language": "python",
   "name": "python3"
  },
  "language_info": {
   "codemirror_mode": {
    "name": "ipython",
    "version": 3
   },
   "file_extension": ".py",
   "mimetype": "text/x-python",
   "name": "python",
   "nbconvert_exporter": "python",
   "pygments_lexer": "ipython3",
   "version": "3.6.9"
  },
  "pycharm": {
   "stem_cell": {
    "cell_type": "raw",
    "source": [],
    "metadata": {
     "collapsed": false
    }
   }
  }
 },
 "nbformat": 4,
 "nbformat_minor": 1
}